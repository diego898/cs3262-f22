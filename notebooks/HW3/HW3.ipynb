{
 "cells": [
  {
   "cell_type": "markdown",
   "id": "215775ed",
   "metadata": {
    "id": "215775ed"
   },
   "source": [
    "# HW3 Notebook \n",
    "\n",
    "\n",
    "Welcome to your HW3 notebook!"
   ]
  },
  {
   "cell_type": "markdown",
   "id": "d3a12729",
   "metadata": {},
   "source": [
    "## Notebook Setup"
   ]
  },
  {
   "cell_type": "code",
   "execution_count": 1,
   "id": "7910b2eb",
   "metadata": {
    "code_folding": [
     0
    ]
   },
   "outputs": [
    {
     "data": {
      "text/html": [
       "\n",
       "    <style>\n",
       "        div.info{\n",
       "            padding: 15px; \n",
       "            border: 1px solid transparent; \n",
       "            border-left: 5px solid #dfb5b4; \n",
       "            border-color: transparent; \n",
       "            margin-bottom: 10px; \n",
       "            border-radius: 4px; \n",
       "            background-color: #fcf8e3; \n",
       "            border-color: #faebcc;\n",
       "        }\n",
       "        hr{\n",
       "            border: 1px solid;\n",
       "            border-radius: 5px;\n",
       "        }\n",
       "    </style>"
      ],
      "text/plain": [
       "<IPython.core.display.HTML object>"
      ]
     },
     "execution_count": 1,
     "metadata": {},
     "output_type": "execute_result"
    }
   ],
   "source": [
    "# imports\n",
    "import numpy as np\n",
    "import matplotlib.pyplot as plt\n",
    "colors = plt.rcParams[\"axes.prop_cycle\"].by_key()[\"color\"]\n",
    "import seaborn as sns\n",
    "import pandas as pd\n",
    "\n",
    "# 3d figures\n",
    "import matplotlib as mpl\n",
    "from mpl_toolkits.mplot3d import Axes3D\n",
    "from matplotlib import cm\n",
    "\n",
    "# creating animations\n",
    "import matplotlib.animation\n",
    "from IPython.display import HTML\n",
    "\n",
    "# styling additions\n",
    "from IPython.display import HTML\n",
    "style = '''\n",
    "    <style>\n",
    "        div.info{\n",
    "            padding: 15px; \n",
    "            border: 1px solid transparent; \n",
    "            border-left: 5px solid #dfb5b4; \n",
    "            border-color: transparent; \n",
    "            margin-bottom: 10px; \n",
    "            border-radius: 4px; \n",
    "            background-color: #fcf8e3; \n",
    "            border-color: #faebcc;\n",
    "        }\n",
    "        hr{\n",
    "            border: 1px solid;\n",
    "            border-radius: 5px;\n",
    "        }\n",
    "    </style>'''\n",
    "HTML(style)"
   ]
  },
  {
   "cell_type": "markdown",
   "id": "6b2eb818",
   "metadata": {},
   "source": [
    "## Assignment Outline\n",
    "\n",
    "<div class='alert alert-block alert-danger'>\n",
    "    \n",
    "<font size='5'>🗓</font> **Due: This assignment is due SUNDAY 11/13/22 at 11:59 PM.**\n",
    "\n",
    "</div>\n",
    "\n",
    "\n",
    "For this problem you must turn in **4 things**:\n",
    "- Your completed [SKLearn: feature scaling and categorical](../lectures/SKLearn-Feature-Scaling-Categorical.ipynb) notebook.\n",
    "- Your completed [SVM](../lectures/SVM.ipynb) notebook\n",
    "- Your completed [Bias and Variance](../lectures/Bias-and-Variance.ipynb) notebook\n",
    "- **This** notebook \n",
    "\n",
    "For **each** thing, you will turn in:\n",
    "- the original `.ipynb`\n",
    "- a PDF of the file\n",
    "\n",
    "So in total, you will turn in **8 files**.\n"
   ]
  },
  {
   "cell_type": "markdown",
   "id": "f9891556",
   "metadata": {},
   "source": [
    "---"
   ]
  },
  {
   "cell_type": "markdown",
   "id": "f563a8d0",
   "metadata": {},
   "source": [
    "# Problem 0 - Lecture Notebooks"
   ]
  },
  {
   "cell_type": "markdown",
   "id": "f94b59f7",
   "metadata": {},
   "source": [
    "For this problem, go to your\n",
    "- [SKLearn: feature scaling and categorical](../lectures/SKLearn-Feature-Scaling-Categorical.ipynb) notebook.\n",
    "- [SVM](../lectures/SVM.ipynb) notebook \n",
    "- [Bias and Variance](../lectures/Bias-and-Variance.ipynb) notebook\n",
    "\n",
    "and **complete all**:\n",
    "- ```# EDIT HERE```\n",
    "- Pause-and-Ponders\n",
    "\n",
    "<br/>\n",
    "\n",
    "<div class='info'>\n",
    "\n",
    "<font size='5'>☝🏽</font> **Note:**  Remember what I said in class about what I am looking for on these! \n",
    "\n",
    "</div>\n",
    "\n",
    "---"
   ]
  },
  {
   "cell_type": "markdown",
   "id": "dcdb27f8",
   "metadata": {},
   "source": [
    "# Problem 1 - SVM"
   ]
  },
  {
   "cell_type": "markdown",
   "id": "a29e50f3",
   "metadata": {},
   "source": [
    "<br/>\n",
    "<div class='info'>\n",
    "\n",
    "<font size='5'>☝🏽</font> **Note:**  We will expand upon the \"in-class\" exercises problems at the end of the SVM notebook. If you've already done them in that notebook, feel free to just copy/paste most of your answers into this problem.\n",
    "\n",
    "</div>"
   ]
  },
  {
   "cell_type": "code",
   "execution_count": null,
   "id": "769b7060",
   "metadata": {},
   "outputs": [],
   "source": [
    "import plotly.express as px\n",
    "df = px.data.iris()\n",
    "fig = px.scatter_3d(df, x=\"sepal_width\", y=\"sepal_length\", z='petal_width',\n",
    "                    color=\"species\", template=\"simple_white\")\n",
    "fig.update_traces(marker={'size': 4})"
   ]
  },
  {
   "cell_type": "markdown",
   "id": "d676c53e",
   "metadata": {},
   "source": [
    "In this problem were going to experiment with SVMs on the iris dataset! \n",
    "\n",
    "That is, in the SVM notebook we did this with `blobs` we got from `scikitlearn`.  Here, pick two classes between `setosa`, `virginica` and `versicolor` (**Note: the data-frames are defined above**) and pick **two features** from `sepal length`, `sepal width`, `petal length` and `petal width`.\n",
    "\n",
    "And use an SVM to tell them apart! "
   ]
  },
  {
   "cell_type": "code",
   "execution_count": null,
   "id": "f54cbf3a",
   "metadata": {},
   "outputs": [],
   "source": []
  },
  {
   "cell_type": "code",
   "execution_count": null,
   "id": "19ed7d22",
   "metadata": {},
   "outputs": [],
   "source": []
  },
  {
   "cell_type": "markdown",
   "id": "417f1ef4",
   "metadata": {},
   "source": [
    "<br/>\n",
    "<div class='info'>\n",
    "\n",
    "<font size='5'>🤔</font> **Pause-and-Ponder:**  Experiment with the `C` (regularization) parameter, and the `kernel` parameter! What do you notice? Does it match what we saw previously? Comment below! \n",
    "\n",
    "</div>\n",
    "\n",
    "---"
   ]
  },
  {
   "cell_type": "markdown",
   "id": "83872ef5",
   "metadata": {},
   "source": []
  },
  {
   "cell_type": "markdown",
   "id": "3ba88c16",
   "metadata": {},
   "source": [
    "---"
   ]
  },
  {
   "cell_type": "markdown",
   "id": "bfe394ff",
   "metadata": {},
   "source": [
    "# Problem 2 - Over/Under fitting and Bias/Variance"
   ]
  },
  {
   "cell_type": "markdown",
   "id": "f20519d8",
   "metadata": {},
   "source": [
    "For this problem, carefully go through the [Bias and Variance notebook](../lectures/Bias-and-Variance.ipynb) and answer the Pause-and-Ponder at the end of that notebook here:\n",
    "\n",
    "<br/>\n",
    "<div class='info'>\n",
    "\n",
    "<font size='5'>🤔</font> **Question**  Play around with the `numPoints` and `poly_order` parameters and re-run the experiment. What do you observe? Write down your observations below! \n",
    "\n",
    "</div>\n",
    "\n",
    "**Remember**: We did this in class and had a long discussion! I want your discussion here to reflect that! \n",
    "\n",
    "**Note:** feel free to copy/paste any code and/or images from that notebook in here to help you in your explanation! \n",
    "\n",
    "---"
   ]
  },
  {
   "cell_type": "markdown",
   "id": "18eedff0",
   "metadata": {},
   "source": []
  },
  {
   "cell_type": "markdown",
   "id": "54f00f44",
   "metadata": {},
   "source": []
  },
  {
   "cell_type": "markdown",
   "id": "7ba89f3c",
   "metadata": {},
   "source": [
    "---"
   ]
  },
  {
   "cell_type": "markdown",
   "id": "2ef809cc",
   "metadata": {},
   "source": [
    "# Problem 3 - Cross-Validation + ROC\n",
    "\n",
    "In this problem, lets load in the iris dataset and make it a bit more challenging by adding some \"noisy features\""
   ]
  },
  {
   "cell_type": "code",
   "execution_count": null,
   "id": "e799b5cf",
   "metadata": {},
   "outputs": [],
   "source": [
    "from sklearn import svm, datasets\n",
    "from sklearn.model_selection import StratifiedKFold\n",
    "from sklearn.metrics import confusion_matrix, classification_report, RocCurveDisplay, ConfusionMatrixDisplay, auc\n",
    "\n",
    "# Import some data to play with\n",
    "iris = datasets.load_iris()\n",
    "X = iris.data\n",
    "y = iris.target\n",
    "target_names = iris.target_names[:2]\n",
    "\n",
    "X, y = X[y != 2], y[y != 2]\n",
    "n_samples, n_features = X.shape\n",
    "\n",
    "# Add 'noisy' features to make problem harder\n",
    "random_state = np.random.RandomState(0)\n",
    "X = np.c_[X, random_state.randn(n_samples, 200 * n_features)]"
   ]
  },
  {
   "cell_type": "markdown",
   "id": "a18c8b7a",
   "metadata": {},
   "source": [
    "Note, in this example, we only have 50 samples per class!"
   ]
  },
  {
   "cell_type": "markdown",
   "id": "a0d8c1c5",
   "metadata": {},
   "source": [
    "Now setup an SVM classifier with a linear kernel:"
   ]
  },
  {
   "cell_type": "code",
   "execution_count": null,
   "id": "4e328e8b",
   "metadata": {},
   "outputs": [],
   "source": [
    "classifier = # EDIT HERE"
   ]
  },
  {
   "cell_type": "markdown",
   "id": "083b5604",
   "metadata": {},
   "source": [
    "Lets see how this classifier does on this dataset: (fit and score it on the entire dataset)"
   ]
  },
  {
   "cell_type": "code",
   "execution_count": null,
   "id": "72864b33",
   "metadata": {},
   "outputs": [],
   "source": [
    "# EDIT HERE"
   ]
  },
  {
   "cell_type": "markdown",
   "id": "64290dff",
   "metadata": {},
   "source": [
    "Now lets see its confusion matrix!"
   ]
  },
  {
   "cell_type": "code",
   "execution_count": null,
   "id": "91461922",
   "metadata": {},
   "outputs": [],
   "source": [
    "cm = confusion_matrix(y, classifier.predict(X))\n",
    "cm"
   ]
  },
  {
   "cell_type": "markdown",
   "id": "470e1e58",
   "metadata": {},
   "source": [
    "We can do better than that! Lets make use of the helper `ConfusionMatrixDisplay` class:"
   ]
  },
  {
   "cell_type": "code",
   "execution_count": null,
   "id": "0f2504c7",
   "metadata": {},
   "outputs": [],
   "source": [
    "# display it on the subplot figure\n",
    "disp = ConfusionMatrixDisplay(confusion_matrix=cm, display_labels=target_names)\n",
    "disp.plot();"
   ]
  },
  {
   "cell_type": "markdown",
   "id": "6997de39",
   "metadata": {},
   "source": [
    "Much better! \n",
    "\n",
    "Now lets see whats going on with our ROC curve, using the helpful `RocCurveDisplay` class:"
   ]
  },
  {
   "cell_type": "code",
   "execution_count": null,
   "id": "3f79ad32",
   "metadata": {},
   "outputs": [],
   "source": [
    "RocCurveDisplay.from_estimator(classifier,X,y,name='ROC',lw=1);"
   ]
  },
  {
   "cell_type": "markdown",
   "id": "3083d627",
   "metadata": {},
   "source": [
    "<div class='info'>\n",
    "\n",
    "<font size='5'>🤔</font> **Pause-and-Ponder:**  What do you observe in these two plots? Is this good? Bad? Trustworthy? Why or why not? Comment below! \n",
    "\n",
    "</div>\n",
    "\n",
    "---"
   ]
  },
  {
   "cell_type": "markdown",
   "id": "ed39d4c0",
   "metadata": {},
   "source": []
  },
  {
   "cell_type": "markdown",
   "id": "e4aa91a1",
   "metadata": {},
   "source": []
  },
  {
   "cell_type": "markdown",
   "id": "39ef8698",
   "metadata": {},
   "source": [
    "---"
   ]
  },
  {
   "cell_type": "markdown",
   "id": "e819ce4d",
   "metadata": {},
   "source": [
    "Hm. After some thought above, you might have come to the conclusion that we cannot trust this performance above! It is a completely biased estimate! \n",
    "\n",
    "we need to actually get a **cross-validated** estimate of our models performance! \n",
    "\n",
    "\n",
    "Now, lets actually setup a cross-validated problem! To do this, we will use the `StratifiedKFold` class from `sklearn.metrics`\n",
    "\n",
    "Before setting up the full problem, lets look at a simple example:"
   ]
  },
  {
   "cell_type": "code",
   "execution_count": null,
   "id": "a6dba217",
   "metadata": {},
   "outputs": [],
   "source": [
    "cv = StratifiedKFold(n_splits=2)\n",
    "cv.split(X,y)"
   ]
  },
  {
   "cell_type": "markdown",
   "id": "2f887ad0",
   "metadata": {},
   "source": [
    "Ah - this generator object must be consumed through iteration! "
   ]
  },
  {
   "cell_type": "code",
   "execution_count": null,
   "id": "b013bdbe",
   "metadata": {},
   "outputs": [],
   "source": [
    "for fold_num, (train_idx, test_idx) in enumerate(cv.split(X,y)):\n",
    "    print('=====================================================')\n",
    "    print(f\"CV fold #{fold_num+1}\")\n",
    "    print('=====================================================')\n",
    "    print(f'train idices: {train_idx}')\n",
    "    print()\n",
    "    print(f'test idices: {test_idx}')"
   ]
  },
  {
   "cell_type": "markdown",
   "id": "23524b5f",
   "metadata": {},
   "source": [
    "Ah! So this makes it easy to split my dataset and automatically gives me the **indices** to use on each of these folds!"
   ]
  },
  {
   "cell_type": "markdown",
   "id": "54cfc622",
   "metadata": {},
   "source": [
    "Now were ready to set this up for real! "
   ]
  },
  {
   "cell_type": "code",
   "execution_count": null,
   "id": "e96aa8b9",
   "metadata": {
    "code_folding": [],
    "scrolled": false
   },
   "outputs": [],
   "source": [
    "################################################\n",
    "#                Setup figures\n",
    "################################################\n",
    "# NOTE: my default code has this working for 6 folds giving a 2x3 figure\n",
    "fig_cm, ax_cm = plt.subplots(2,3,figsize=(10,8))\n",
    "\n",
    "# setup ROC figure\n",
    "fig, ax = plt.subplots(figsize=(10,8))\n",
    "ax.set(\n",
    "    xlim=[-0.05, 1.05],\n",
    "    ylim=[-0.05, 1.05],\n",
    "    title=\"Receiver Operating Characteristic\",\n",
    ")\n",
    "\n",
    "# setup mean curve variables\n",
    "tprs = []\n",
    "aucs = []\n",
    "mean_fpr = np.linspace(0, 1, 100)\n",
    "\n",
    "# plot \"no-skill\"/\"guessing\" classifier\n",
    "ax.plot([0, 1], [0, 1], linestyle=\"--\", lw=2, color=\"r\", label=\"Chance\", alpha=0.8)\n",
    "\n",
    "################################################\n",
    "#               Cross-Validation\n",
    "################################################\n",
    "cv = StratifiedKFold(n_splits=6)\n",
    "\n",
    "# actually perform the CV and loop through each fold\n",
    "for # EDIT HERE\n",
    "    print('=====================================================')\n",
    "    print(f\"CV fold #{fold_num+1}\")\n",
    "    print('=====================================================')\n",
    "    \n",
    "    # fit classifier **on this folds data**\n",
    "    # EDIT HERE\n",
    "    \n",
    "    # predict on this folds \"testing\" set\n",
    "    y_pred = # EDIT HERE\n",
    "\n",
    "    # get this fold's confusion matrix\n",
    "    cm = confusion_matrix(# EDIT HERE, # EDIT HERE)\n",
    "    \n",
    "    # display it on the subplot figure\n",
    "    disp = ConfusionMatrixDisplay(confusion_matrix=cm, display_labels=target_names)\n",
    "    disp.plot(ax=ax_cm.flatten()[fold_num])\n",
    "    ax_cm.flatten()[fold_num].set(title=f'CM for fold {fold_num+1}')\n",
    "\n",
    "    # print this folds classification report\n",
    "    print('Classification report:')\n",
    "    print(classification_report(# EDIT HERE, # EDIT HERE, target_names=target_names))\n",
    "\n",
    "    # build and display ROC curve for this fold\n",
    "    viz = RocCurveDisplay.from_estimator(\n",
    "        # EDIT HERE,\n",
    "        # EDIT HERE,\n",
    "        # EDIT HERE,\n",
    "        name=f\"ROC fold {fold_num+1}\",\n",
    "        alpha=0.4,\n",
    "        lw=1,\n",
    "        ax=ax,\n",
    "    )\n",
    "\n",
    "    # store information for the mean curve\n",
    "    interp_tpr = np.interp(mean_fpr, viz.fpr, viz.tpr)\n",
    "    interp_tpr[0] = 0.0\n",
    "    tprs.append(interp_tpr)\n",
    "    aucs.append(viz.roc_auc)\n",
    "\n",
    "# now actually plot MEAN ROC curve\n",
    "mean_tpr = np.mean(tprs, axis=0)\n",
    "mean_tpr[-1] = 1.0\n",
    "mean_auc = auc(mean_fpr, mean_tpr)\n",
    "std_auc = np.std(aucs)\n",
    "ax.plot(\n",
    "    mean_fpr,\n",
    "    mean_tpr,\n",
    "    color=\"b\",\n",
    "    label=f\"Mean ROC (AUC = {mean_auc:0.2f})\",\n",
    "    lw=2,\n",
    "    alpha=0.8,\n",
    ")\n",
    "\n",
    "ax.legend(loc=\"lower right\");"
   ]
  },
  {
   "cell_type": "markdown",
   "id": "1b4f252c",
   "metadata": {},
   "source": [
    "<br/>\n",
    "<div class='info'>\n",
    "\n",
    "<font size='5'>🤔</font> **Pause-and-Ponder:**  What do you notice here? How does this compare to what we observed above? Have you conclusions changed? Why or why not? Comment below! \n",
    "\n",
    "</div>\n",
    "\n",
    "---"
   ]
  },
  {
   "cell_type": "markdown",
   "id": "5487e253",
   "metadata": {},
   "source": []
  },
  {
   "cell_type": "markdown",
   "id": "b0f9813a",
   "metadata": {},
   "source": []
  },
  {
   "cell_type": "markdown",
   "id": "dd960e3d",
   "metadata": {},
   "source": [
    "---"
   ]
  },
  {
   "cell_type": "markdown",
   "id": "6da1dfeb",
   "metadata": {},
   "source": [
    "# Problem 4 - Experiment!\n",
    "\n",
    "For this problem, you're going to use the **breast-cancer dataset** built into scikit learn:"
   ]
  },
  {
   "cell_type": "code",
   "execution_count": null,
   "id": "6ac954f7",
   "metadata": {},
   "outputs": [],
   "source": [
    "from sklearn.datasets import load_breast_cancer\n",
    "X,y = load_breast_cancer(return_X_y=True)\n",
    "bc_df = load_breast_cancer(as_frame=True).data\n",
    "X.shape,y.shape"
   ]
  },
  {
   "cell_type": "code",
   "execution_count": null,
   "id": "e8af267a",
   "metadata": {},
   "outputs": [],
   "source": [
    "bc_df"
   ]
  },
  {
   "cell_type": "markdown",
   "id": "f967e3cd",
   "metadata": {},
   "source": [
    "<br/>\n",
    "<div class='info'>\n",
    "\n",
    "<font size='5'>☝🏽</font> **Note:**  Above I'm showing you a few ways to get this data in and interact it with. Pick which one works for you!\n",
    "\n",
    "</div>"
   ]
  },
  {
   "cell_type": "markdown",
   "id": "05a0e19a",
   "metadata": {},
   "source": [
    "For this problem:\n",
    "- run **three** different classifiers of your own choosing on this dataset to try and predict the label\n",
    "- for **each** classifier you picked, report all results we did in problem 3"
   ]
  },
  {
   "cell_type": "code",
   "execution_count": null,
   "id": "9bef87ab",
   "metadata": {},
   "outputs": [],
   "source": []
  },
  {
   "cell_type": "code",
   "execution_count": null,
   "id": "c833bf2c",
   "metadata": {},
   "outputs": [],
   "source": []
  },
  {
   "cell_type": "code",
   "execution_count": null,
   "id": "5f59e9f4",
   "metadata": {},
   "outputs": [],
   "source": []
  },
  {
   "cell_type": "code",
   "execution_count": null,
   "id": "d0f2a548",
   "metadata": {},
   "outputs": [],
   "source": []
  },
  {
   "cell_type": "code",
   "execution_count": null,
   "id": "a1190e5e",
   "metadata": {},
   "outputs": [],
   "source": []
  },
  {
   "cell_type": "markdown",
   "id": "3f7c21a2",
   "metadata": {},
   "source": [
    "<br/>\n",
    "<div class='info'>\n",
    "\n",
    "<font size='5'>🤔</font> **Pause-and-Ponder:**  Now, using the evidence you've gathered, explain which one is best and why - this is should be a thorough explanation that involves all your evidence! \n",
    "\n",
    "</div>\n",
    "\n",
    "---"
   ]
  },
  {
   "cell_type": "markdown",
   "id": "13a74779",
   "metadata": {},
   "source": []
  },
  {
   "cell_type": "markdown",
   "id": "8cbed06a",
   "metadata": {},
   "source": []
  },
  {
   "cell_type": "markdown",
   "id": "25b2b215",
   "metadata": {},
   "source": [
    "---"
   ]
  },
  {
   "cell_type": "code",
   "execution_count": null,
   "id": "e37d51bd",
   "metadata": {},
   "outputs": [],
   "source": []
  }
 ],
 "metadata": {
  "kernelspec": {
   "display_name": "Python 3 (ipykernel)",
   "language": "python",
   "name": "python3"
  },
  "language_info": {
   "codemirror_mode": {
    "name": "ipython",
    "version": 3
   },
   "file_extension": ".py",
   "mimetype": "text/x-python",
   "name": "python",
   "nbconvert_exporter": "python",
   "pygments_lexer": "ipython3",
   "version": "3.8.3"
  },
  "toc": {
   "base_numbering": 1,
   "nav_menu": {},
   "number_sections": false,
   "sideBar": true,
   "skip_h1_title": false,
   "title_cell": "Table of Contents",
   "title_sidebar": "Contents",
   "toc_cell": false,
   "toc_position": {
    "height": "calc(100% - 180px)",
    "left": "10px",
    "top": "150px",
    "width": "168.4px"
   },
   "toc_section_display": true,
   "toc_window_display": true
  }
 },
 "nbformat": 4,
 "nbformat_minor": 5
}
