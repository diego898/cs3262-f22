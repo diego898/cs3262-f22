{
 "cells": [
  {
   "cell_type": "markdown",
   "id": "215775ed",
   "metadata": {
    "id": "215775ed"
   },
   "source": [
    "# HW0 Notebook"
   ]
  },
  {
   "cell_type": "markdown",
   "id": "8ecf0dc3",
   "metadata": {},
   "source": [
    "## Notebook Setup"
   ]
  },
  {
   "cell_type": "code",
   "execution_count": 1,
   "id": "7910b2eb",
   "metadata": {},
   "outputs": [
    {
     "data": {
      "text/html": [
       "<style>div.info{padding: 15px; border: 1px solid transparent; border-left: 5px solid #dfb5b4; border-color: transparent; margin-bottom: 10px; border-radius: 4px; background-color: #fcf8e3; border-color: #faebcc;}</style>"
      ],
      "text/plain": [
       "<IPython.core.display.HTML object>"
      ]
     },
     "execution_count": 1,
     "metadata": {},
     "output_type": "execute_result"
    }
   ],
   "source": [
    "import numpy as np \n",
    "import matplotlib.pyplot as plt\n",
    "import seaborn as sns\n",
    "# styling additions\n",
    "from IPython.display import HTML\n",
    "# style = \"<style>div.warn{background-color: #fcf2f2;border-color: #dFb5b4; border-left: 5px solid #dfb5b4; padding: 0.5em;}</style>\"\n",
    "style = \"<style>div.info{padding: 15px; border: 1px solid transparent; border-left: 5px solid #dfb5b4; border-color: transparent; margin-bottom: 10px; border-radius: 4px; background-color: #fcf8e3; border-color: #faebcc;}</style>\"\n",
    "HTML(style)"
   ]
  },
  {
   "cell_type": "markdown",
   "id": "828b5b28",
   "metadata": {},
   "source": [
    "Welcome to the Fall 2022 semester of CS 3262! This class will use **Python** and its **scientific computing stack** to teach you about Machine Learning!\n",
    "\n",
    "This notebook also serves as your first HW assingment! \n",
    "\n",
    "<br/>\n",
    "<div class='info'>\n",
    "\n",
    "<font size='5'>🙋🏽</font> Do you know why our first HW assignment is called HW0?\n",
    "\n",
    "</div>"
   ]
  },
  {
   "cell_type": "markdown",
   "id": "093479ae",
   "metadata": {},
   "source": [
    "# Google Colab"
   ]
  },
  {
   "cell_type": "markdown",
   "id": "b45bfe5d",
   "metadata": {},
   "source": [
    "Instead of installing the entire python scientific stack on your own machine, we are going to focus on using Google's Colab notebook hosting service.\n",
    "\n",
    "This gives us access to the entire set of tools (including a GPU!) without the difficult and fragility of running everything locally. \n",
    "\n",
    "You should be viewing this notebook now through the Colab service! \n",
    "\n",
    "<br/>\n",
    "\n",
    "<div class=\"info\">\n",
    "    \n",
    "<font size=\"5\">☝🏽</font>**Note**: If want to install it locally, I recommend using the excellent [Anaconda python distribution](https://www.anaconda.com/products/individual), which comes with almost everything ready to go out of the box.  \n",
    "\n",
    "You will see my switch between running notebooks locally or on Colab in class.\n",
    "</div>\n",
    "\n",
    "---"
   ]
  },
  {
   "cell_type": "markdown",
   "id": "b3d710f2",
   "metadata": {},
   "source": [
    "# Problem 0 - Jupyter Notebooks"
   ]
  },
  {
   "cell_type": "markdown",
   "id": "0c8f9e01",
   "metadata": {},
   "source": [
    "<div class='info'>\n",
    "    \n",
    "<font size='5'>☝🏽</font>**Note:** You are reading a Jupyter Notebook right now!\n",
    "\n",
    "</div>\n",
    "\n",
    "\n",
    "In recent years, the Jupyter Notebook has become a massively popular tool for doing research-oriented work in Python and other languages alike. Its emergence marked a paradigm shift in the way data science is conducted. \n",
    "\n",
    "A Jupyter notebook is similar to the IPython console, but, instead of only being able to work with a single line of code at a time, you can easily edit and re-execute *any* code that had been written in a notebook. Furthermore, you can save a notebook, and thus return to it later.\n",
    "\n",
    "Additionally, a notebook provides many terrific features. For instance, you can: \n",
    "- embed visualizations of data within a notebook,\n",
    "- write blocks of nicely-formatted text (using the [Markdown syntax](https://github.com/adam-p/markdown-here/wiki/Markdown-Cheatsheet)), for presenting and explaining the contents of the notebook. \n",
    "- mix all your text and visualizations with interactive code that changes the notebook!\n",
    "- use $\\LaTeX$ math equations!\n",
    "\n",
    "In this way, the Jupyter Notebook stands out as an excellent tool for many practical applications. \n",
    "\n",
    "**When I do research, I am always creating Jupyter notebooks in which I write code that analyzes data, I plot various results, presented in different ways, and I write detailed markdown-text blocks to document my work. The end result is something that I can share with my labmates, and easily revisit months later without having to struggle to recall what I had done.**"
   ]
  },
  {
   "cell_type": "markdown",
   "id": "82984ef0",
   "metadata": {},
   "source": [
    "## Notebook Cells "
   ]
  },
  {
   "cell_type": "markdown",
   "id": "228e5888",
   "metadata": {},
   "source": [
    "Whereas a Python console only allows you to work on one line of code at a time, a notebook allows you to write code within \"cells\" and to execute these chunks of code cell-by-cell. In the first cell, write the lines of code:\n",
    "\n",
    "```python\n",
    "x = 3\n",
    "y = 4\n",
    "```\n",
    "then press `<SHIFT>+<ENTER>`. This will execute all of the code within the given cell (in this instance, assigning the variables `x` and `y` with the values 3 and 4, respectively) and then creates a new cell below. "
   ]
  },
  {
   "cell_type": "code",
   "execution_count": 2,
   "id": "fd66f8b5",
   "metadata": {},
   "outputs": [],
   "source": [
    "# TYPE YOUR CODE HERE:\n"
   ]
  },
  {
   "cell_type": "markdown",
   "id": "6c136266",
   "metadata": {},
   "source": [
    "In the next cell type the code:\n",
    "\n",
    "```python\n",
    "x + y\n",
    "```\n",
    "and hit `<SHIFT>+<ENTER>` to execute this code. The number 7 will appear beneath the cell - this, of course, is the value that is returned when `3 + 4` is evaluated: "
   ]
  },
  {
   "cell_type": "code",
   "execution_count": 3,
   "id": "f9039fa2",
   "metadata": {},
   "outputs": [],
   "source": [
    "# TYPE YOUR CODE HERE:\n"
   ]
  },
  {
   "cell_type": "markdown",
   "id": "d9059665",
   "metadata": {},
   "source": [
    "Notice that the notebook **knows** about its variables across its cells. This doesn't just work from top to bottom - you can define `z = 2` in the third cell, and then execute code that references `z` in the **first** cell. \n",
    "\n",
    "\n",
    "<div class=\"alert alert-block alert-danger\">\n",
    "\n",
    "<font size=\"5\">⚠️</font>What really matters is the **order** in which the cells are executed! \n",
    "    \n",
    "Make sure you remember this! Many unexpected problems can arise when you forget this!\n",
    "    \n",
    "</div>\n",
    "\n",
    "As an example of what could happen, make a new cell below this one, and run:\n",
    "\n",
    "```python\n",
    "x = x + y\n",
    "```"
   ]
  },
  {
   "cell_type": "code",
   "execution_count": null,
   "id": "cddd8903",
   "metadata": {},
   "outputs": [],
   "source": []
  },
  {
   "cell_type": "markdown",
   "id": "a23bd5ec",
   "metadata": {},
   "source": [
    "and **then** go back and run the \n",
    "\n",
    "```python\n",
    "x + y\n",
    "```\n",
    "\n",
    "cell above. What did you observe?"
   ]
  },
  {
   "cell_type": "markdown",
   "id": "174fa1de",
   "metadata": {},
   "source": [
    "<div class='alert alert-block alert-info'>\n",
    "\n",
    "<font size='5'>⌨️</font> **COMMENT HERE:**\n",
    "\n",
    "</div>"
   ]
  },
  {
   "cell_type": "markdown",
   "id": "83157c54",
   "metadata": {},
   "source": []
  },
  {
   "cell_type": "markdown",
   "id": "441a8227",
   "metadata": {},
   "source": [
    "\n",
    "---"
   ]
  },
  {
   "cell_type": "markdown",
   "id": "f868edd0",
   "metadata": {},
   "source": [
    "Notice that `In[1]` denotes that the top cell with the first input-cell executed in the notebook, and `In[2]` denotes the second cell that was executed. \n",
    "\n",
    "Formally, the cells within a given notebook share a common **namespace**: any variable defined in a cell can be referenced or redefined in **any other cell within the notebook**.\n",
    "\n",
    "On the other hand, separate notebooks are completely independent from one another. You can be working on multiple notebooks at once, and they will never \"know\" about one another. \n",
    "\n",
    "A major value of using a notebook is that you can rapidly edit these cells (say, change `x = 3` to  `x = 10`), and re-execute them to nimbly tinker with whatever code you are developing. Although simple, this is a hugely powerful environment for prototyping code. "
   ]
  },
  {
   "cell_type": "markdown",
   "id": "ba92e685",
   "metadata": {},
   "source": [
    "## A quick example\n",
    "\n",
    "To show off a more exciting use-case, let's plots some data for us. We'll use `matplotlib`, a Python library that is used for plotting data, and `NumPy`, the premiere library for doing numerical work in Python. \n",
    "\n",
    "We will import these libraries for use in our code. Next we'll define some mathematical functions. And finally, we'll plot these functions evaluated on a large number of closely-spaced points on the domain."
   ]
  },
  {
   "cell_type": "code",
   "execution_count": 8,
   "id": "52cd77a7",
   "metadata": {
    "execution": {
     "iopub.execute_input": "2021-01-31T21:47:30.495595Z",
     "iopub.status.busy": "2021-01-31T21:47:30.494594Z",
     "iopub.status.idle": "2021-01-31T21:47:31.168637Z",
     "shell.execute_reply": "2021-01-31T21:47:31.167635Z"
    }
   },
   "outputs": [],
   "source": [
    "import numpy as np\n",
    "import matplotlib.pyplot as plt\n",
    "\n",
    "# this tells Jupyter to embed matplotlib plots in the notebook\n",
    "%matplotlib inline "
   ]
  },
  {
   "cell_type": "code",
   "execution_count": 4,
   "id": "c7ff1ec6",
   "metadata": {
    "execution": {
     "iopub.execute_input": "2021-01-31T21:47:31.173637Z",
     "iopub.status.busy": "2021-01-31T21:47:31.172634Z",
     "iopub.status.idle": "2021-01-31T21:47:31.183635Z",
     "shell.execute_reply": "2021-01-31T21:47:31.183635Z"
    }
   },
   "outputs": [],
   "source": [
    "def sinc(x):\n",
    "    return np.sin(x) / x\n",
    "\n",
    "def d_sinc(x):\n",
    "    \"derivative of sinc-function\"\n",
    "    return np.cos(x)/x - np.sin(x)/x**2"
   ]
  },
  {
   "cell_type": "code",
   "execution_count": 5,
   "id": "3066d356",
   "metadata": {
    "execution": {
     "iopub.execute_input": "2021-01-31T21:47:31.187635Z",
     "iopub.status.busy": "2021-01-31T21:47:31.186634Z",
     "iopub.status.idle": "2021-01-31T21:47:31.198636Z",
     "shell.execute_reply": "2021-01-31T21:47:31.198636Z"
    }
   },
   "outputs": [],
   "source": [
    "# evaluate functions at 1000 points evenly spaced in [-15, 15]\n",
    "x = np.linspace(-15, 15, 1000)\n",
    "f = sinc(x)\n",
    "df = d_sinc(x)"
   ]
  },
  {
   "cell_type": "code",
   "execution_count": 6,
   "id": "aff1800d",
   "metadata": {
    "execution": {
     "iopub.execute_input": "2021-01-31T21:47:31.233635Z",
     "iopub.status.busy": "2021-01-31T21:47:31.232637Z",
     "iopub.status.idle": "2021-01-31T21:47:31.719634Z",
     "shell.execute_reply": "2021-01-31T21:47:31.720634Z"
    }
   },
   "outputs": [
    {
     "data": {
      "image/png": "[encoded data removed]",
      "text/plain": [
       "<Figure size 432x288 with 1 Axes>"
      ]
     },
     "metadata": {
      "needs_background": "light"
     },
     "output_type": "display_data"
    }
   ],
   "source": [
    "# plot the sinc-function and its derivative\n",
    "fig, ax = plt.subplots()\n",
    "ax.plot(x, f, color=\"red\", label=r\"$sinc(x)$\")\n",
    "ax.plot(x, df, color=\"blue\", ls=\"--\", label=r\"$\\frac{d(sinc(x))}{dx}$\")\n",
    "\n",
    "\n",
    "ax.set_title(\"Example Notebook Plot\")\n",
    "ax.set_xlabel(r\"$x$ [radians]\")\n",
    "\n",
    "ax.grid(True)\n",
    "ax.legend();"
   ]
  },
  {
   "cell_type": "markdown",
   "id": "dac2e0d0",
   "metadata": {},
   "source": [
    "Notice that this notebook interface is great for making  adjustments to this plot. You can easily change the color or line-style of the plot and redraw it without having to recompute the functions. You simply re-execute the cell containing the plot code. This is especially nice when the numerical computations required to generate the curves are costly."
   ]
  },
  {
   "cell_type": "markdown",
   "id": "9050029f",
   "metadata": {},
   "source": [
    "## Familiarizing Yourself with Jupyter Notebooks\n",
    "Here, we will review some essential keyboard shortcuts and notebook features, which will enable you to use notebooks competently. A notebook has two modes of operation: \n",
    "\n",
    "**Command Mode (Press** `<ESC>` **to activate)** \n",
    "\n",
    "When in command mode, you can use keyboard shortcuts to create/delete/cut/paste notebook cells, and to change a cell's type between code and markdown modes. Your selected cell will be surrounded by a *blue* border when you are in command mode. For a complete listing of keyboard shortcuts, toward the top of the notebook click `Help > Keyboard Shortcuts`. The most critical shortcuts are:\n",
    "\n",
    "- create a new cell above the current cell: `a`\n",
    "- create a new cell below the current cell: `b`\n",
    "- delete the current cell: `dd`\n",
    "- restart the notebook kernel (kill all executions and erase all defined variables): `00`\n",
    "- change the current cell's type to \"Code\": `y`\n",
    "- change the current cell's type to \"Markdown\": `m`\n",
    "\n",
    "**Edit Mode (Press** `<Enter>` **to activate)** \n",
    "\n",
    "Edit mode simply permits you to type text into the selected cell. When in edit mode, the current cell will be surrounded by a *green* border. There are two commands for executing a cell:\n",
    "\n",
    "- execute current cell: `<CTRL>+<ENTER>`\n",
    "- execute current cell and then create a new cell below: `<SHIFT>+<ENTER>`\n",
    "\n",
    "By default, a cell will be a code-type cell, meaning that its content will be formatted and executed as Python code. Just as you saw when using the IPython notebook, `<TAB>` can be used to perform autocomplete. Additionally, when your cursor is on the name of a Python function in your code, `<SHIFT>+<TAB>` will bring up a small window with the function's documentations string. This is *very* useful.\n",
    "\n",
    "\n",
    "\n",
    "### Markdown Cells\n",
    "When a cell is set to Markdown type, its content will not be interpreted as Python code. Instead, its contents will be rendered as stylized text. Refer to [this page](https://github.com/adam-p/markdown-here/wiki/Markdown-Cheatsheet) as a reference for various markdown stylings. Using markdown cells allows you to create section and subsection headers for your notebook, you can [render LaTeX math equations](http://jupyter-notebook.readthedocs.io/en/stable/examples/Notebook/Working%20With%20Markdown%20Cells.html#LaTeX-equations), embed images and videos in your notebook, and much more. In fact, every page in this website was created using Jupyter notebooks! Markdown-type cells are tremendously useful for creating high-quality, well-documented Jupyter notebooks. These are perfect for lab-report assignments.\n",
    "\n",
    "<div class=\"alert alert-warning\">\n",
    "\n",
    "**Be Aware of Cell-Type**:\n",
    "\n",
    "If you ever find that your Python code isn't being formatted properly, and doesn't run at all when you execute the cell (you get no output, not even errors), there is a good chance that you have accidentally set the cell to be a 'Markdown'-type cell! Change the cell back to code-type by entering command mode (`<ESC>`) and pressing `y`.\n",
    "\n",
    "</div>"
   ]
  },
  {
   "cell_type": "markdown",
   "id": "bb138872",
   "metadata": {},
   "source": [
    "### Using Jupyter Notebooks with Other Languages\n",
    "The Jupyter Notebook does not work exclusively with Python. A \"kernel\" can be developed in order to provide support for a given programming language in Jupyter. Indeed, kernels for several prominent programming languages are being developed for use with Jupyter: \n",
    "\n",
    "- [R](https://github.com/IRkernel/IRkernel)\n",
    "- [Julia](https://github.com/JuliaLang/IJulia.jl)\n",
    "- [Ruby](https://github.com/SciRuby/iruby)\n",
    "- [C++](https://github.com/QuantStack/xeus-cling)\n",
    "- [Haskell](https://github.com/gibiansky/IHaskell)\n",
    "- [Go](https://github.com/gopherdata/gophernotes)\n",
    "\n",
    "The ever-growing list of available kernels for use with Jupyter can be found [here](https://github.com/jupyter/jupyter/wiki/Jupyter-kernels). It should be noted that these efforts are not all equally mature. For instance, whereas the Python and Julia kernels are robust, the Haskell kernel cannot run natively on Windows machines, and the C++ kernel is still in early development, as of writing this. \n",
    "\n",
    "---"
   ]
  },
  {
   "cell_type": "markdown",
   "id": "26eced9c",
   "metadata": {},
   "source": [
    "# Problem 1 - An informal introduction to Python"
   ]
  },
  {
   "cell_type": "markdown",
   "id": "9312defc",
   "metadata": {},
   "source": [
    "Let's acquaint ourselves with Python's numbers, strings, and lists. In doing so, we will learn about the Python standard library, and how to make use of its modules, like the math module. Jupyter notebook's autocompletion and documentation-display utilities will provide a nice means for exploring the library and the functionality built into the different types of Python objects. A quick glimpse at Python's strings and lists will hint at the common interface Python provides for working with sequences of objects, while highlighting some of the nice features of these all-important data types. \n",
    "\n",
    "## Dabbling with Numbers \n",
    "Time to execute some Python code that performs simple arithmetic. Typing `2 + 3` into a new cell and observe the output:"
   ]
  },
  {
   "cell_type": "code",
   "execution_count": 1,
   "id": "67de9177",
   "metadata": {
    "execution": {
     "iopub.execute_input": "2021-01-31T21:47:25.361255Z",
     "iopub.status.busy": "2021-01-31T21:47:25.361255Z",
     "iopub.status.idle": "2021-01-31T21:47:25.378259Z",
     "shell.execute_reply": "2021-01-31T21:47:25.378259Z"
    }
   },
   "outputs": [
    {
     "data": {
      "text/plain": [
       "5"
      ]
     },
     "execution_count": 1,
     "metadata": {},
     "output_type": "execute_result"
    }
   ],
   "source": [
    "# TYPE YOUR CODE HERE\n"
   ]
  },
  {
   "cell_type": "markdown",
   "id": "9f0625af",
   "metadata": {},
   "source": [
    "As described above, the notebook is persistent, meaning that we can define a variable and then reference it in our code later on. Let's define the variable `x` and assign it to the integer `10`:"
   ]
  },
  {
   "cell_type": "code",
   "execution_count": 2,
   "id": "80994b0a",
   "metadata": {
    "execution": {
     "iopub.execute_input": "2021-01-31T21:47:25.382261Z",
     "iopub.status.busy": "2021-01-31T21:47:25.381257Z",
     "iopub.status.idle": "2021-01-31T21:47:25.394256Z",
     "shell.execute_reply": "2021-01-31T21:47:25.395259Z"
    }
   },
   "outputs": [],
   "source": [
    "# TYPE YOUR CODE HERE\n"
   ]
  },
  {
   "cell_type": "markdown",
   "id": "251a7c3c",
   "metadata": {},
   "source": [
    "We can check the contents of `x` in the notebook by simply entering `x` in the next line and hitting `<ENTER>`:"
   ]
  },
  {
   "cell_type": "code",
   "execution_count": 3,
   "id": "5613bc98",
   "metadata": {
    "execution": {
     "iopub.execute_input": "2021-01-31T21:47:25.399257Z",
     "iopub.status.busy": "2021-01-31T21:47:25.398260Z",
     "iopub.status.idle": "2021-01-31T21:47:25.409258Z",
     "shell.execute_reply": "2021-01-31T21:47:25.410259Z"
    }
   },
   "outputs": [
    {
     "data": {
      "text/plain": [
       "10"
      ]
     },
     "execution_count": 1,
     "metadata": {},
     "output_type": "execute_result"
    }
   ],
   "source": [
    "# TYPE YOUR CODE HERE\n"
   ]
  },
  {
   "cell_type": "markdown",
   "id": "8a4c1af8",
   "metadata": {},
   "source": [
    "Now, let's use `x` in a quadratic equation $x^{2} + 2x + 3$, and compute this total."
   ]
  },
  {
   "cell_type": "code",
   "execution_count": 4,
   "id": "4b5b7a11",
   "metadata": {
    "execution": {
     "iopub.execute_input": "2021-01-31T21:47:25.414258Z",
     "iopub.status.busy": "2021-01-31T21:47:25.413258Z",
     "iopub.status.idle": "2021-01-31T21:47:25.425259Z",
     "shell.execute_reply": "2021-01-31T21:47:25.425259Z"
    }
   },
   "outputs": [
    {
     "data": {
      "text/plain": [
       "123"
      ]
     },
     "execution_count": 1,
     "metadata": {},
     "output_type": "execute_result"
    }
   ],
   "source": [
    "# TYPE YOUR CODE HERE\n"
   ]
  },
  {
   "cell_type": "markdown",
   "id": "36eeecd8",
   "metadata": {},
   "source": [
    "Python's \"standard library\", the various tools and functions that come packaged as part of the core language, includes plenty of familiar mathematical functions. As a matter of organization, Python stores these mathematical functions away in a module named \"math\". To make use of this math module, we must import it into our code. "
   ]
  },
  {
   "cell_type": "code",
   "execution_count": 5,
   "id": "ca826415",
   "metadata": {
    "execution": {
     "iopub.execute_input": "2021-01-31T21:47:25.428260Z",
     "iopub.status.busy": "2021-01-31T21:47:25.428260Z",
     "iopub.status.idle": "2021-01-31T21:47:25.440256Z",
     "shell.execute_reply": "2021-01-31T21:47:25.440256Z"
    }
   },
   "outputs": [],
   "source": [
    "import math"
   ]
  },
  {
   "cell_type": "markdown",
   "id": "b518cdb8",
   "metadata": {},
   "source": [
    "Having imported it, the term `math` now refers to the math module in our code. \n",
    "\n",
    "Jupyter provides a nice way for us to see a list of all the functions that are provided by the math module. To utilize this, type into the console `math.` (note the trailing period) and then hit `<TAB>`. You should see this list appear:"
   ]
  },
  {
   "cell_type": "code",
   "execution_count": null,
   "id": "cff3dc0e",
   "metadata": {},
   "outputs": [],
   "source": [
    "# TYPE YOUR CODE HERE\n"
   ]
  },
  {
   "cell_type": "markdown",
   "id": "5b519e40",
   "metadata": {},
   "source": [
    "<div class='info'>\n",
    "    \n",
    "<font size='5'>☝🏽</font> **Note:** In general, hitting `<TAB>` will cue Jupyter to try to autocomplete code for you. \n",
    "\n",
    "</div>\n",
    "  \n",
    "This menu displays all the valid things that you could type after `math.`. Looking at the functions starting with \"s\", we see `sqrt()`. This is the square root function. To see autocompletion in action, type `math.sq` and then hit `<TAB>`. You should see the code autocomplete to `math.sqrt`.\n",
    "\n",
    "Let's use this function to compute $\\sqrt{100}$:"
   ]
  },
  {
   "cell_type": "code",
   "execution_count": 6,
   "id": "21dcc905",
   "metadata": {
    "execution": {
     "iopub.execute_input": "2021-01-31T21:47:25.444260Z",
     "iopub.status.busy": "2021-01-31T21:47:25.444260Z",
     "iopub.status.idle": "2021-01-31T21:47:25.455258Z",
     "shell.execute_reply": "2021-01-31T21:47:25.455258Z"
    }
   },
   "outputs": [
    {
     "data": {
      "text/plain": [
       "10.0"
      ]
     },
     "execution_count": 1,
     "metadata": {},
     "output_type": "execute_result"
    }
   ],
   "source": [
    "# TYPE YOUR CODE HERE\n"
   ]
  },
  {
   "cell_type": "markdown",
   "id": "e683f75f",
   "metadata": {},
   "source": [
    "You might wonder why the result displayed as `10.0` and not simply as `10`; Below, we will see that these are two different *types* of numbers in the Python language. The former is called a floating-point number, indicating the presence of its decimal point, whereas the latter is an integer. The `math.sqrt` function is defined such that it always returns its results as floating-point numbers.\n",
    "\n",
    "In the case that we want to make frequent use of a certain function from the math module, it'd be nice to avoid having to type out the math module prefix, `math.`, repeatedly. We can accomplish this by importing an individual function from the math module. Let's import the factorial function from the math module."
   ]
  },
  {
   "cell_type": "code",
   "execution_count": 7,
   "id": "8629625d",
   "metadata": {
    "execution": {
     "iopub.execute_input": "2021-01-31T21:47:25.459259Z",
     "iopub.status.busy": "2021-01-31T21:47:25.458259Z",
     "iopub.status.idle": "2021-01-31T21:47:25.472259Z",
     "shell.execute_reply": "2021-01-31T21:47:25.471259Z"
    }
   },
   "outputs": [],
   "source": [
    "from math import factorial"
   ]
  },
  {
   "cell_type": "markdown",
   "id": "9ffef7c2",
   "metadata": {},
   "source": [
    "We can now make use of the `factorial` function in our code. Recall that 5-factorial is $5! = 5\\times 4\\times 3\\times 2\\times 1 = 120$  "
   ]
  },
  {
   "cell_type": "code",
   "execution_count": 8,
   "id": "f5e494f1",
   "metadata": {
    "execution": {
     "iopub.execute_input": "2021-01-31T21:47:25.475260Z",
     "iopub.status.busy": "2021-01-31T21:47:25.475260Z",
     "iopub.status.idle": "2021-01-31T21:47:25.487257Z",
     "shell.execute_reply": "2021-01-31T21:47:25.488257Z"
    }
   },
   "outputs": [
    {
     "data": {
      "text/plain": [
       "120"
      ]
     },
     "execution_count": 1,
     "metadata": {},
     "output_type": "execute_result"
    }
   ],
   "source": [
    "# TYPE YOUR CODE HERE\n"
   ]
  },
  {
   "cell_type": "markdown",
   "id": "59074074",
   "metadata": {},
   "source": [
    "## Messing with Strings\n",
    "In the context of code, written text is referred to as a string of characters, or string for short. Python is an excellent language for doing text-processing work as it provides many convenient, efficient functions for working with strings. \n",
    "\n",
    "To begin, we simply form a string by typing characters between quotation marks:"
   ]
  },
  {
   "cell_type": "code",
   "execution_count": 9,
   "id": "36f7855e",
   "metadata": {
    "execution": {
     "iopub.execute_input": "2021-01-31T21:47:25.492257Z",
     "iopub.status.busy": "2021-01-31T21:47:25.491256Z",
     "iopub.status.idle": "2021-01-31T21:47:25.503256Z",
     "shell.execute_reply": "2021-01-31T21:47:25.503256Z"
    }
   },
   "outputs": [
    {
     "data": {
      "text/plain": [
       "'the cat in the hat'"
      ]
     },
     "execution_count": 1,
     "metadata": {},
     "output_type": "execute_result"
    }
   ],
   "source": [
    "\"the cat in the hat\""
   ]
  },
  {
   "cell_type": "markdown",
   "id": "9eab4380",
   "metadata": {},
   "source": [
    "Single quotes also work:"
   ]
  },
  {
   "cell_type": "code",
   "execution_count": 10,
   "id": "09421b8f",
   "metadata": {
    "execution": {
     "iopub.execute_input": "2021-01-31T21:47:25.506259Z",
     "iopub.status.busy": "2021-01-31T21:47:25.506259Z",
     "iopub.status.idle": "2021-01-31T21:47:25.519257Z",
     "shell.execute_reply": "2021-01-31T21:47:25.519257Z"
    }
   },
   "outputs": [
    {
     "data": {
      "text/plain": [
       "'the dog in the sash'"
      ]
     },
     "execution_count": 1,
     "metadata": {},
     "output_type": "execute_result"
    }
   ],
   "source": [
    "'the dog in the sash'"
   ]
  },
  {
   "cell_type": "markdown",
   "id": "34ad048d",
   "metadata": {},
   "source": [
    "If you use single quotes to form a string, then that string is able to contain the double-quote as a character (and vice versa):"
   ]
  },
  {
   "cell_type": "code",
   "execution_count": 11,
   "id": "8006be6f",
   "metadata": {
    "execution": {
     "iopub.execute_input": "2021-01-31T21:47:25.522258Z",
     "iopub.status.busy": "2021-01-31T21:47:25.522258Z",
     "iopub.status.idle": "2021-01-31T21:47:25.536257Z",
     "shell.execute_reply": "2021-01-31T21:47:25.535257Z"
    }
   },
   "outputs": [
    {
     "data": {
      "text/plain": [
       "'He picked up the phone, \"Hello? What do you want?\" Bob was a rather impolite dude.'"
      ]
     },
     "execution_count": 1,
     "metadata": {},
     "output_type": "execute_result"
    }
   ],
   "source": [
    "'He picked up the phone, \"Hello? What do you want?\" Bob was a rather impolite dude.'"
   ]
  },
  {
   "cell_type": "markdown",
   "id": "6fc8900b",
   "metadata": {},
   "source": [
    "There are designated special characters that allow us to affect the way a string is formatted when it is printed to the string. For example, if `\\n` ever occurs in a string, it is treated as a single character that indicates a line-break. This will only manifest if such a string is fed to the built-in `print` function, which informs the computer to print text to a user's screen.\n",
    "\n",
    "Let's create a string that will display as three separate lines, when printed to the screen."
   ]
  },
  {
   "cell_type": "code",
   "execution_count": 12,
   "id": "4af284d1",
   "metadata": {
    "execution": {
     "iopub.execute_input": "2021-01-31T21:47:25.539258Z",
     "iopub.status.busy": "2021-01-31T21:47:25.539258Z",
     "iopub.status.idle": "2021-01-31T21:47:25.551257Z",
     "shell.execute_reply": "2021-01-31T21:47:25.551257Z"
    }
   },
   "outputs": [
    {
     "name": "stdout",
     "output_type": "stream",
     "text": [
      "I like to talk to dogs.\n",
      "I like to talk to cats.\n",
      "What's my deal?\n"
     ]
    }
   ],
   "source": [
    "print(\"I like to talk to dogs.\\nI like to talk to cats.\\nWhat's my deal?\")"
   ]
  },
  {
   "cell_type": "markdown",
   "id": "227ea8e6",
   "metadata": {},
   "source": [
    "Of course, strings are useful beyond merely containing text! Let's explore some ways to manipulate strings. First, we'll write a string and assign it to a variable named `sentence`:"
   ]
  },
  {
   "cell_type": "code",
   "execution_count": 13,
   "id": "0ccc3978",
   "metadata": {
    "execution": {
     "iopub.execute_input": "2021-01-31T21:47:25.554257Z",
     "iopub.status.busy": "2021-01-31T21:47:25.554257Z",
     "iopub.status.idle": "2021-01-31T21:47:25.565256Z",
     "shell.execute_reply": "2021-01-31T21:47:25.566258Z"
    }
   },
   "outputs": [],
   "source": [
    "sentence = \"Who would have thought that we were robots all along?\""
   ]
  },
  {
   "cell_type": "markdown",
   "id": "bc69262d",
   "metadata": {},
   "source": [
    "Let's see how many characters are in this string by checking the \"length\" of this sequence of characters:"
   ]
  },
  {
   "cell_type": "code",
   "execution_count": 14,
   "id": "d7a50d03",
   "metadata": {
    "execution": {
     "iopub.execute_input": "2021-01-31T21:47:25.569257Z",
     "iopub.status.busy": "2021-01-31T21:47:25.569257Z",
     "iopub.status.idle": "2021-01-31T21:47:25.582259Z",
     "shell.execute_reply": "2021-01-31T21:47:25.582259Z"
    }
   },
   "outputs": [
    {
     "data": {
      "text/plain": [
       "53"
      ]
     },
     "execution_count": 1,
     "metadata": {},
     "output_type": "execute_result"
    }
   ],
   "source": [
    "len(sentence)"
   ]
  },
  {
   "cell_type": "markdown",
   "id": "4ca6eacb",
   "metadata": {},
   "source": [
    "We can access the first 4 characters in the string, the last 6 characters, or a few characters in the middle by \"slicing\" the string:"
   ]
  },
  {
   "cell_type": "code",
   "execution_count": 15,
   "id": "05bf3cdb",
   "metadata": {
    "execution": {
     "iopub.execute_input": "2021-01-31T21:47:25.585257Z",
     "iopub.status.busy": "2021-01-31T21:47:25.585257Z",
     "iopub.status.idle": "2021-01-31T21:47:25.597257Z",
     "shell.execute_reply": "2021-01-31T21:47:25.597257Z"
    }
   },
   "outputs": [
    {
     "data": {
      "text/plain": [
       "'Who '"
      ]
     },
     "execution_count": 1,
     "metadata": {},
     "output_type": "execute_result"
    }
   ],
   "source": [
    "sentence[:4]"
   ]
  },
  {
   "cell_type": "code",
   "execution_count": 16,
   "id": "4a7a9479",
   "metadata": {
    "execution": {
     "iopub.execute_input": "2021-01-31T21:47:25.600256Z",
     "iopub.status.busy": "2021-01-31T21:47:25.600256Z",
     "iopub.status.idle": "2021-01-31T21:47:25.613258Z",
     "shell.execute_reply": "2021-01-31T21:47:25.613258Z"
    }
   },
   "outputs": [
    {
     "data": {
      "text/plain": [
       "'along?'"
      ]
     },
     "execution_count": 1,
     "metadata": {},
     "output_type": "execute_result"
    }
   ],
   "source": [
    "sentence[-6:]"
   ]
  },
  {
   "cell_type": "code",
   "execution_count": 17,
   "id": "a41c2d5c",
   "metadata": {
    "execution": {
     "iopub.execute_input": "2021-01-31T21:47:25.617260Z",
     "iopub.status.busy": "2021-01-31T21:47:25.617260Z",
     "iopub.status.idle": "2021-01-31T21:47:25.629260Z",
     "shell.execute_reply": "2021-01-31T21:47:25.630259Z"
    }
   },
   "outputs": [
    {
     "data": {
      "text/plain": [
       "'ould have thought'"
      ]
     },
     "execution_count": 1,
     "metadata": {},
     "output_type": "execute_result"
    }
   ],
   "source": [
    "sentence[5:22]"
   ]
  },
  {
   "cell_type": "markdown",
   "id": "2366f3ad",
   "metadata": {},
   "source": [
    "We can also check to see if some other string is contained within our string. Is the string `\"robot\"` contained within `sentence`?"
   ]
  },
  {
   "cell_type": "code",
   "execution_count": 18,
   "id": "caa11a1f",
   "metadata": {
    "execution": {
     "iopub.execute_input": "2021-01-31T21:47:25.635262Z",
     "iopub.status.busy": "2021-01-31T21:47:25.634258Z",
     "iopub.status.idle": "2021-01-31T21:47:25.645257Z",
     "shell.execute_reply": "2021-01-31T21:47:25.646262Z"
    }
   },
   "outputs": [
    {
     "data": {
      "text/plain": [
       "True"
      ]
     },
     "execution_count": 1,
     "metadata": {},
     "output_type": "execute_result"
    }
   ],
   "source": [
    "\"robot\" in sentence"
   ]
  },
  {
   "cell_type": "markdown",
   "id": "42818025",
   "metadata": {},
   "source": [
    "As a quick way to check out the built-in functions that strings have available to them, we can make use of Jupyter's autocompletion feature once again. Type `sentence.` (including the trailing period) and then hit `<TAB>`. A menu of functions should appear as so:"
   ]
  },
  {
   "cell_type": "code",
   "execution_count": null,
   "id": "7336d45f",
   "metadata": {},
   "outputs": [],
   "source": [
    "# TYPE YOUR CODE HERE\n"
   ]
  },
  {
   "cell_type": "markdown",
   "id": "bd3a57f8",
   "metadata": {},
   "source": [
    "Let's use the count function to tally the number of lowercase w's in `sentence`"
   ]
  },
  {
   "cell_type": "code",
   "execution_count": 19,
   "id": "d34b4764",
   "metadata": {
    "execution": {
     "iopub.execute_input": "2021-01-31T21:47:25.652260Z",
     "iopub.status.busy": "2021-01-31T21:47:25.651257Z",
     "iopub.status.idle": "2021-01-31T21:47:25.661259Z",
     "shell.execute_reply": "2021-01-31T21:47:25.662258Z"
    }
   },
   "outputs": [
    {
     "data": {
      "text/plain": [
       "3"
      ]
     },
     "execution_count": 1,
     "metadata": {},
     "output_type": "execute_result"
    }
   ],
   "source": [
    "sentence.count('w')"
   ]
  },
  {
   "cell_type": "markdown",
   "id": "7629f322",
   "metadata": {},
   "source": [
    "Let's see what the replace function does. \n",
    "\n",
    "<br/>\n",
    "\n",
    "<div class='info'>\n",
    "    \n",
    "<font size='5'>☝🏽</font> **Note:** Jupyter provides a great utility for looking up the documentation for a function by simply putting a question mark after the function name. \n",
    "\n",
    "</div>\n",
    "\n",
    "For example:"
   ]
  },
  {
   "cell_type": "code",
   "execution_count": null,
   "id": "d71609b8",
   "metadata": {},
   "outputs": [],
   "source": [
    "# TYPE YOUR CODE HERE\n"
   ]
  },
  {
   "cell_type": "markdown",
   "id": "7b39f016",
   "metadata": {},
   "source": [
    "Putting our newfound understanding of the string's replace function, let's replace \"robot\" with \"computer\":"
   ]
  },
  {
   "cell_type": "code",
   "execution_count": 20,
   "id": "f1051f9d",
   "metadata": {
    "execution": {
     "iopub.execute_input": "2021-01-31T21:47:25.667257Z",
     "iopub.status.busy": "2021-01-31T21:47:25.666257Z",
     "iopub.status.idle": "2021-01-31T21:47:25.677257Z",
     "shell.execute_reply": "2021-01-31T21:47:25.676259Z"
    }
   },
   "outputs": [
    {
     "data": {
      "text/plain": [
       "'Who would have thought that we were computers all along?'"
      ]
     },
     "execution_count": 1,
     "metadata": {},
     "output_type": "execute_result"
    }
   ],
   "source": [
    "sentence.replace(\"robot\", \"computer\")"
   ]
  },
  {
   "cell_type": "markdown",
   "id": "74d9a942",
   "metadata": {},
   "source": [
    "## Playing with Lists\n",
    "A list is one of several types of containers that are built into Python's standard library. It can hold a sequence of Python objects. We can create a list of numbers: "
   ]
  },
  {
   "cell_type": "code",
   "execution_count": 21,
   "id": "e74f91f3",
   "metadata": {
    "execution": {
     "iopub.execute_input": "2021-01-31T21:47:25.683257Z",
     "iopub.status.busy": "2021-01-31T21:47:25.683257Z",
     "iopub.status.idle": "2021-01-31T21:47:25.692258Z",
     "shell.execute_reply": "2021-01-31T21:47:25.693257Z"
    }
   },
   "outputs": [
    {
     "data": {
      "text/plain": [
       "[-1, 0.3333333333333333, 20, 6]"
      ]
     },
     "execution_count": 1,
     "metadata": {},
     "output_type": "execute_result"
    }
   ],
   "source": [
    "[-1, 1/3, 10*2, 7-1]"
   ]
  },
  {
   "cell_type": "markdown",
   "id": "27c4e886",
   "metadata": {},
   "source": [
    "A list can contain any type of Python object; it can store a mix of numbers, strings, other lists, and much more!"
   ]
  },
  {
   "cell_type": "code",
   "execution_count": 22,
   "id": "b80f851d",
   "metadata": {
    "execution": {
     "iopub.execute_input": "2021-01-31T21:47:25.697256Z",
     "iopub.status.busy": "2021-01-31T21:47:25.697256Z",
     "iopub.status.idle": "2021-01-31T21:47:25.708258Z",
     "shell.execute_reply": "2021-01-31T21:47:25.707256Z"
    }
   },
   "outputs": [
    {
     "data": {
      "text/plain": [
       "[1, 2, 'a', 0.5, 'apple and orange']"
      ]
     },
     "execution_count": 1,
     "metadata": {},
     "output_type": "execute_result"
    }
   ],
   "source": [
    "[1, 2, \"a\", 0.5, \"apple and orange\"]"
   ]
  },
  {
   "cell_type": "markdown",
   "id": "0d9007a8",
   "metadata": {},
   "source": [
    "You can join lists together, which is known as concatenation."
   ]
  },
  {
   "cell_type": "code",
   "execution_count": 23,
   "id": "c2e373a1",
   "metadata": {
    "execution": {
     "iopub.execute_input": "2021-01-31T21:47:25.712258Z",
     "iopub.status.busy": "2021-01-31T21:47:25.711257Z",
     "iopub.status.idle": "2021-01-31T21:47:25.723257Z",
     "shell.execute_reply": "2021-01-31T21:47:25.723257Z"
    }
   },
   "outputs": [
    {
     "data": {
      "text/plain": [
       "[1, 2, 3, 'a', 'b', 'c']"
      ]
     },
     "execution_count": 1,
     "metadata": {},
     "output_type": "execute_result"
    }
   ],
   "source": [
    "[1, 2, 3] + [\"a\", \"b\", \"c\"]"
   ]
  },
  {
   "cell_type": "markdown",
   "id": "6013c77e",
   "metadata": {},
   "source": [
    "Like a string, a list is sequential in nature and we can access the items in a list by specifying its position in the sequence. This is known as \"indexing\" the list; the index of the first item in a sequence is always 0."
   ]
  },
  {
   "cell_type": "code",
   "execution_count": 24,
   "id": "b17825a2",
   "metadata": {
    "execution": {
     "iopub.execute_input": "2021-01-31T21:47:25.727258Z",
     "iopub.status.busy": "2021-01-31T21:47:25.726259Z",
     "iopub.status.idle": "2021-01-31T21:47:25.739257Z",
     "shell.execute_reply": "2021-01-31T21:47:25.740256Z"
    }
   },
   "outputs": [],
   "source": [
    "my_list = [10, 20, 30, 40, 50, 60]"
   ]
  },
  {
   "cell_type": "code",
   "execution_count": 25,
   "id": "3442037d",
   "metadata": {
    "execution": {
     "iopub.execute_input": "2021-01-31T21:47:25.745258Z",
     "iopub.status.busy": "2021-01-31T21:47:25.744257Z",
     "iopub.status.idle": "2021-01-31T21:47:25.757260Z",
     "shell.execute_reply": "2021-01-31T21:47:25.756259Z"
    }
   },
   "outputs": [
    {
     "data": {
      "text/plain": [
       "10"
      ]
     },
     "execution_count": 1,
     "metadata": {},
     "output_type": "execute_result"
    }
   ],
   "source": [
    "my_list[0]"
   ]
  },
  {
   "cell_type": "code",
   "execution_count": 26,
   "id": "5192ba69",
   "metadata": {
    "execution": {
     "iopub.execute_input": "2021-01-31T21:47:25.765259Z",
     "iopub.status.busy": "2021-01-31T21:47:25.764257Z",
     "iopub.status.idle": "2021-01-31T21:47:25.770258Z",
     "shell.execute_reply": "2021-01-31T21:47:25.771258Z"
    }
   },
   "outputs": [
    {
     "data": {
      "text/plain": [
       "20"
      ]
     },
     "execution_count": 1,
     "metadata": {},
     "output_type": "execute_result"
    }
   ],
   "source": [
    "my_list[1]"
   ]
  },
  {
   "cell_type": "markdown",
   "id": "83fa65ca",
   "metadata": {},
   "source": [
    "Negative integers can be used to index relative to the end (right-side) of the list."
   ]
  },
  {
   "cell_type": "code",
   "execution_count": 27,
   "id": "26dfb060",
   "metadata": {
    "execution": {
     "iopub.execute_input": "2021-01-31T21:47:25.777259Z",
     "iopub.status.busy": "2021-01-31T21:47:25.776259Z",
     "iopub.status.idle": "2021-01-31T21:47:25.785256Z",
     "shell.execute_reply": "2021-01-31T21:47:25.785256Z"
    }
   },
   "outputs": [
    {
     "data": {
      "text/plain": [
       "60"
      ]
     },
     "execution_count": 1,
     "metadata": {},
     "output_type": "execute_result"
    }
   ],
   "source": [
    "my_list[-1]"
   ]
  },
  {
   "cell_type": "markdown",
   "id": "e61125d7",
   "metadata": {},
   "source": [
    "You can change an entry in a list by assigning it to a new value."
   ]
  },
  {
   "cell_type": "code",
   "execution_count": 28,
   "id": "5d80f69f",
   "metadata": {
    "execution": {
     "iopub.execute_input": "2021-01-31T21:47:25.790257Z",
     "iopub.status.busy": "2021-01-31T21:47:25.789257Z",
     "iopub.status.idle": "2021-01-31T21:47:25.801257Z",
     "shell.execute_reply": "2021-01-31T21:47:25.802256Z"
    }
   },
   "outputs": [
    {
     "data": {
      "text/plain": [
       "False"
      ]
     },
     "execution_count": 1,
     "metadata": {},
     "output_type": "execute_result"
    }
   ],
   "source": [
    "-5 in my_list"
   ]
  },
  {
   "cell_type": "code",
   "execution_count": 29,
   "id": "77a5ab7c",
   "metadata": {
    "execution": {
     "iopub.execute_input": "2021-01-31T21:47:25.806257Z",
     "iopub.status.busy": "2021-01-31T21:47:25.805257Z",
     "iopub.status.idle": "2021-01-31T21:47:25.817257Z",
     "shell.execute_reply": "2021-01-31T21:47:25.816256Z"
    }
   },
   "outputs": [],
   "source": [
    "my_list[1] = -5"
   ]
  },
  {
   "cell_type": "code",
   "execution_count": 30,
   "id": "3a5e0090",
   "metadata": {
    "execution": {
     "iopub.execute_input": "2021-01-31T21:47:25.821257Z",
     "iopub.status.busy": "2021-01-31T21:47:25.820256Z",
     "iopub.status.idle": "2021-01-31T21:47:25.831257Z",
     "shell.execute_reply": "2021-01-31T21:47:25.831257Z"
    }
   },
   "outputs": [
    {
     "data": {
      "text/plain": [
       "[10, -5, 30, 40, 50, 60]"
      ]
     },
     "execution_count": 1,
     "metadata": {},
     "output_type": "execute_result"
    }
   ],
   "source": [
    "my_list"
   ]
  },
  {
   "cell_type": "code",
   "execution_count": 31,
   "id": "f7642064",
   "metadata": {
    "execution": {
     "iopub.execute_input": "2021-01-31T21:47:25.835259Z",
     "iopub.status.busy": "2021-01-31T21:47:25.834256Z",
     "iopub.status.idle": "2021-01-31T21:47:25.848257Z",
     "shell.execute_reply": "2021-01-31T21:47:25.847256Z"
    }
   },
   "outputs": [
    {
     "data": {
      "text/plain": [
       "True"
      ]
     },
     "execution_count": 1,
     "metadata": {},
     "output_type": "execute_result"
    }
   ],
   "source": [
    "-5 in my_list"
   ]
  },
  {
   "cell_type": "markdown",
   "id": "df65aac7",
   "metadata": {},
   "source": [
    "We can also access multiple items in a list at once by slicing the list, like we did with the string."
   ]
  },
  {
   "cell_type": "code",
   "execution_count": 32,
   "id": "5096d353",
   "metadata": {
    "execution": {
     "iopub.execute_input": "2021-01-31T21:47:25.852256Z",
     "iopub.status.busy": "2021-01-31T21:47:25.851257Z",
     "iopub.status.idle": "2021-01-31T21:47:25.862256Z",
     "shell.execute_reply": "2021-01-31T21:47:25.862256Z"
    }
   },
   "outputs": [
    {
     "data": {
      "text/plain": [
       "[10, -5, 30]"
      ]
     },
     "execution_count": 1,
     "metadata": {},
     "output_type": "execute_result"
    }
   ],
   "source": [
    "my_list[:3]"
   ]
  },
  {
   "cell_type": "markdown",
   "id": "a407b870",
   "metadata": {},
   "source": [
    "This slice can be used to update the first three entries of the list"
   ]
  },
  {
   "cell_type": "code",
   "execution_count": 33,
   "id": "cad87a47",
   "metadata": {
    "execution": {
     "iopub.execute_input": "2021-01-31T21:47:25.866257Z",
     "iopub.status.busy": "2021-01-31T21:47:25.865256Z",
     "iopub.status.idle": "2021-01-31T21:47:25.876256Z",
     "shell.execute_reply": "2021-01-31T21:47:25.877258Z"
    }
   },
   "outputs": [],
   "source": [
    "my_list[:3] = \"abc\""
   ]
  },
  {
   "cell_type": "code",
   "execution_count": 34,
   "id": "d291863c",
   "metadata": {
    "execution": {
     "iopub.execute_input": "2021-01-31T21:47:25.880257Z",
     "iopub.status.busy": "2021-01-31T21:47:25.879256Z",
     "iopub.status.idle": "2021-01-31T21:47:25.893255Z",
     "shell.execute_reply": "2021-01-31T21:47:25.893255Z"
    }
   },
   "outputs": [
    {
     "data": {
      "text/plain": [
       "['a', 'b', 'c', 40, 50, 60]"
      ]
     },
     "execution_count": 1,
     "metadata": {},
     "output_type": "execute_result"
    }
   ],
   "source": [
    "my_list"
   ]
  },
  {
   "cell_type": "markdown",
   "id": "093b6ed9",
   "metadata": {},
   "source": [
    "To wrap up this quick demo, let's append an new entry to the end of this list."
   ]
  },
  {
   "cell_type": "code",
   "execution_count": 35,
   "id": "85fd6811",
   "metadata": {
    "execution": {
     "iopub.execute_input": "2021-01-31T21:47:25.896257Z",
     "iopub.status.busy": "2021-01-31T21:47:25.895256Z",
     "iopub.status.idle": "2021-01-31T21:47:25.909260Z",
     "shell.execute_reply": "2021-01-31T21:47:25.909260Z"
    }
   },
   "outputs": [],
   "source": [
    "my_list.append(\"moo\")"
   ]
  },
  {
   "cell_type": "code",
   "execution_count": 36,
   "id": "fc2d618e",
   "metadata": {
    "execution": {
     "iopub.execute_input": "2021-01-31T21:47:25.913256Z",
     "iopub.status.busy": "2021-01-31T21:47:25.913256Z",
     "iopub.status.idle": "2021-01-31T21:47:25.925256Z",
     "shell.execute_reply": "2021-01-31T21:47:25.925256Z"
    },
    "scrolled": true
   },
   "outputs": [
    {
     "data": {
      "text/plain": [
       "['a', 'b', 'c', 40, 50, 60, 'moo']"
      ]
     },
     "execution_count": 1,
     "metadata": {},
     "output_type": "execute_result"
    }
   ],
   "source": [
    "my_list"
   ]
  },
  {
   "cell_type": "markdown",
   "id": "6908def9",
   "metadata": {},
   "source": [
    "---"
   ]
  },
  {
   "cell_type": "markdown",
   "id": "19dfc57c",
   "metadata": {},
   "source": [
    "# Problem 2 - Python Syntax Crash Course"
   ]
  },
  {
   "cell_type": "markdown",
   "id": "a2f75ad6",
   "metadata": {},
   "source": [
    "Given that either Programming in Python, or Programming at the 2201 level is a prerequisite for this course, we are going to rely on your programming experience to be able to \"get you up to speed\" with Pythons simple and straight forward syntax and data structures.\n",
    "\n",
    "To help you with this, I **problem 1** requires reading and interacting with the **excellent** [Python Like You Mean it](https://www.pythonlikeyoumeanit.com/) resource.\n",
    "\n",
    "<br/>\n",
    "<div class='info'>\n",
    "\n",
    "<font size='5'>☝🏽</font> **Note:** The original resource is not itself interactive. For the sake of this class, I have converted the code *samples* in Module 2, to interactive code *cells* in a notebook and provide you with them for our class.\n",
    "\n",
    "</div>\n",
    "\n",
    "<div class=\"alert alert-block alert-danger\">\n",
    "    \n",
    "<font size='5'>⚠️</font> **Warning:** This conversion was done mostly automatically by a script I wrote. I spot-checked the conversion and it looked ok. If there is anything \"weird\" in your notebook, please refer back to the original source online! \n",
    "    \n",
    "Please let me know by reporting it on Piazza and I will update it! \n",
    "    \n",
    "</div>\n",
    "\n",
    "\n",
    "Since it is split up into modules, we won't need to read/do the entire thing right away. The most important one is Module 2. Not all of Module 2 is **required**. \n",
    "\n",
    "<br/>\n",
    "\n",
    "<div class=\"info\">\n",
    "\n",
    "<font size='5'>☝🏽</font> **Note:** From the list below, I have denoted the **required sections** with a <font size=\"5\">⚠️</font> emoji\n",
    "\n",
    "</div>\n",
    "\n",
    "\n",
    "- **Module 2: The Essentials of Python**\n",
    "  - <font size=\"5\">⚠️</font>[**Basic Object Types**](../PLYMI/Module2/Basic_Objects.ipynb)\n",
    "  - [Sequence Types](../PLYMI/Module2/SequenceTypes.ipynb)\n",
    "  - <font size=\"5\">⚠️</font>[**Variables & Assignment**](../PLYMI/Module2/Variables_and_Assignment.ipynb)\n",
    "  - <font size=\"5\">⚠️</font>[**Introducing Control Flow**](../PLYMI/Module2/ControlFlow.ipynb)\n",
    "  - <font size=\"5\">⚠️</font>[**Conditional Statements**](../PLYMI/Module2/ConditionalStatements.ipynb)\n",
    "  - <font size=\"5\">⚠️</font>[**For-Loops and While-Loops**](../PLYMI/Module2/ForLoops.ipynb)\n",
    "  - [Iterables](../PLYMI/Module2/Iterables.ipynb)\n",
    "  - [Generators & Comprehension Expressions](../PLYMI/Module2/Generators_and_Comprehensions.ipynb)\n",
    "  - [Python’s “Itertools”](../PLYMI/Module2/Itertools.ipynb)\n",
    "  - <font size=\"5\">⚠️</font>[**Basics of Functions**](../PLYMI/Module2/Functions.ipynb)\n",
    "  - <font size=\"5\">⚠️</font>[**Scope**](../PLYMI/Module2/Scope.ipynb)\n",
    "  - [Data Structures (Part I): Introduction](../PLYMI/Module2/DataStructures.ipynb)\n",
    "  - [Data Structures (Part II): Dictionaries](../PLYMI/Module2/DataStructures_II_Dictionaries.ipynb)\n",
    "  - [Data Structures (Part III): Sets & the Collections Module](../PLYMI/Module2/DataStructures_III_Sets_and_More.ipynb)\n",
    "\n",
    "<div class='info'>\n",
    "    \n",
    "<font size='5'>📝</font> **HW Problem:** For this problem, go through *at least* the required section notebooks and run all the code, think through all the examples, and test yourself with the reading comprehension examples provided.\n",
    "\n",
    "</div>\n",
    "\n",
    "---"
   ]
  },
  {
   "cell_type": "markdown",
   "id": "efebb198",
   "metadata": {},
   "source": [
    "# Problem 3 - Test your knowledge! "
   ]
  },
  {
   "cell_type": "markdown",
   "id": "cf04be94",
   "metadata": {},
   "source": [
    "Now that you've done some reading, lets put your knowledge to the test! Complete each of the following exercises! "
   ]
  },
  {
   "cell_type": "markdown",
   "id": "ad7a4d36",
   "metadata": {},
   "source": [
    "<div class='info'>\n",
    "    \n",
    "<font size='5'>📝</font> **HW Problem:** Define three variables: `x`,`y`,`z` and use them to calculate the following equation:\n",
    "\n",
    "$$\n",
    "\\frac{x^2 + y^3 + z^4}{20}\n",
    "$$\n",
    "\n",
    "when $x=5,y=2,z=2.4$\n",
    "    \n",
    "</div>\n",
    "\n"
   ]
  },
  {
   "cell_type": "code",
   "execution_count": null,
   "id": "fa924aee",
   "metadata": {},
   "outputs": [],
   "source": []
  },
  {
   "cell_type": "code",
   "execution_count": null,
   "id": "b9deb403",
   "metadata": {},
   "outputs": [],
   "source": []
  },
  {
   "cell_type": "code",
   "execution_count": null,
   "id": "0f87d093",
   "metadata": {},
   "outputs": [],
   "source": []
  },
  {
   "cell_type": "markdown",
   "id": "e6401778",
   "metadata": {},
   "source": [
    "<div class='info'>\n",
    "    \n",
    "<font size='5'>📝</font> **HW Problem:** Write a function called `string_testing` which takes **three** parameters `greeting`,`name` and `age` and does the following:\n",
    "</div>\n",
    "\n",
    "**calling**\n",
    "```python\n",
    "string_testing('welcome','prof. mesa', 34)\n",
    "```\n",
    "\n",
    "**prints**\n",
    "```\n",
    "Welcome prof. mesa! I see you are 34!\n",
    "```"
   ]
  },
  {
   "cell_type": "code",
   "execution_count": null,
   "id": "0a3b393d",
   "metadata": {},
   "outputs": [],
   "source": []
  },
  {
   "cell_type": "code",
   "execution_count": null,
   "id": "dd081b32",
   "metadata": {},
   "outputs": [],
   "source": []
  },
  {
   "cell_type": "code",
   "execution_count": null,
   "id": "d53aec97",
   "metadata": {},
   "outputs": [],
   "source": []
  },
  {
   "cell_type": "markdown",
   "id": "99255641",
   "metadata": {},
   "source": [
    "<div class='info'>\n",
    "    \n",
    "<font size='5'>📝</font> **HW Problem:** Write a function called `looping` which takes **two** parameters `size`, `character` and does the following:\n",
    "</div>\n",
    "\n",
    "**calling**\n",
    "```python\n",
    "looping(8,'*')\n",
    "```\n",
    "\n",
    "**prints**\n",
    "```\n",
    "*\n",
    "**\n",
    "***\n",
    "****\n",
    "*****\n",
    "******\n",
    "*******\n",
    "********\n",
    "\n",
    "```"
   ]
  },
  {
   "cell_type": "code",
   "execution_count": null,
   "id": "f6de9149",
   "metadata": {},
   "outputs": [],
   "source": []
  },
  {
   "cell_type": "code",
   "execution_count": null,
   "id": "92fb8df0",
   "metadata": {},
   "outputs": [],
   "source": []
  },
  {
   "cell_type": "code",
   "execution_count": null,
   "id": "c686c9cb",
   "metadata": {},
   "outputs": [],
   "source": []
  },
  {
   "cell_type": "markdown",
   "id": "305500ad",
   "metadata": {},
   "source": [
    "<div class='info'>\n",
    "    \n",
    "<font size='5'>📝</font> **HW Problem:** Write a function called `over_average` that takes a list of integers, and returns:\n",
    "\n",
    "- their average, \n",
    "- how many values are above that average\n",
    "\n",
    "</div>\n",
    "\n",
    "For example:\n",
    "\n",
    "**calling**\n",
    "```python\n",
    "over_average([1,2,3,4,50])\n",
    "```\n",
    "**prints**\n",
    "```\n",
    "Average: 21.4\n",
    "Num. over average: 1\n",
    "```\n",
    "\n",
    "**calling**\n",
    "```python\n",
    "over_average([1,2,3,4,5])\n",
    "```\n",
    "**prints**\n",
    "```\n",
    "Average: 3.0\n",
    "Num. over average: 2\n",
    "```"
   ]
  },
  {
   "cell_type": "code",
   "execution_count": null,
   "id": "642ce42e",
   "metadata": {},
   "outputs": [],
   "source": []
  },
  {
   "cell_type": "code",
   "execution_count": null,
   "id": "3ffb0d47",
   "metadata": {},
   "outputs": [],
   "source": []
  },
  {
   "cell_type": "code",
   "execution_count": null,
   "id": "9cfba2b9",
   "metadata": {},
   "outputs": [],
   "source": []
  },
  {
   "cell_type": "markdown",
   "id": "ecf17129",
   "metadata": {},
   "source": [
    "<div class='info'>\n",
    "    \n",
    "<font size='5'>📝</font> **HW Problem:** Write a function called `swap_case` that takes a list of strings, and converts all lowercase letters to uppercase and vice-versa.\n",
    "\n",
    "</div>\n",
    "\n",
    "For example:\n",
    "\n",
    "**calling**\n",
    "```python\n",
    "swap_case(['this IS A test', 'OF this', 'FuNcTiOn'])\n",
    "```\n",
    "**prints**\n",
    "```\n",
    "Swapped cases: ['THIS is a TEST', 'of THIS', 'fUnCtIoN']\n",
    "```"
   ]
  },
  {
   "cell_type": "code",
   "execution_count": null,
   "id": "09d87769",
   "metadata": {},
   "outputs": [],
   "source": []
  },
  {
   "cell_type": "code",
   "execution_count": null,
   "id": "2dbd97e4",
   "metadata": {},
   "outputs": [],
   "source": []
  },
  {
   "cell_type": "code",
   "execution_count": null,
   "id": "ce0688ef",
   "metadata": {},
   "outputs": [],
   "source": []
  }
 ],
 "metadata": {
  "kernelspec": {
   "display_name": "Python 3 (ipykernel)",
   "language": "python",
   "name": "python3"
  },
  "language_info": {
   "codemirror_mode": {
    "name": "ipython",
    "version": 3
   },
   "file_extension": ".py",
   "mimetype": "text/x-python",
   "name": "python",
   "nbconvert_exporter": "python",
   "pygments_lexer": "ipython3",
   "version": "3.8.3"
  },
  "toc": {
   "base_numbering": 1,
   "nav_menu": {},
   "number_sections": false,
   "sideBar": true,
   "skip_h1_title": false,
   "title_cell": "Table of Contents",
   "title_sidebar": "Contents",
   "toc_cell": false,
   "toc_position": {
    "height": "calc(100% - 180px)",
    "left": "10px",
    "top": "150px",
    "width": "201.6px"
   },
   "toc_section_display": true,
   "toc_window_display": false
  }
 },
 "nbformat": 4,
 "nbformat_minor": 5
}
